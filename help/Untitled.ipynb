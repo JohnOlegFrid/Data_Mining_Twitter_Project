{
 "cells": [
  {
   "cell_type": "markdown",
   "metadata": {},
   "source": [
    "## Question 3"
   ]
  },
  {
   "cell_type": "code",
   "execution_count": 15,
   "metadata": {},
   "outputs": [],
   "source": [
    "import tweepy\n",
    "from tweepy import OAuthHandler\n",
    "\n",
    "consumer_key = 'aZgjP0NZeM4iiBaQXJcyOKLJB'\n",
    "consumer_secret = 'VRLyop5JLP8Kh91CMnE0rpOKUhKEtrrVTCOozHVOd8QEFx69XX'\n",
    "access_token = '326266960-9RZItG8Q4FUER0BOX4eO8mrvsvrrDWzaWiJqoens'\n",
    "access_secret = 'v6UHn9puTUv5OgcDwGqf3UxfCZv6XSJZ1gB8UkXOFrnQo'\n",
    "\n",
    "auth = OAuthHandler(consumer_key,consumer_secret)\n",
    "auth.set_access_token(access_token,access_secret)\n",
    "\n",
    "api = tweepy.API(auth)"
   ]
  },
  {
   "cell_type": "code",
   "execution_count": 21,
   "metadata": {},
   "outputs": [
    {
     "name": "stdout",
     "output_type": "stream",
     "text": [
      "{'id': 81994188, 'id_str': '81994188', 'name': 'Producer 9-0 says #ThxMLK', 'screen_name': 'nine_oh', 'location': 'Kansas City, MO', 'description': '#VolkswagenBeliever CEO 9.0 Mag, 9.0 The Underground, #Bogardthat No Limit East, Booking ☛#8186499660 ❤️God #CowboysNation #Lakers #Twittergoons🎤 Chevy Suxs', 'url': 'https://t.co/20OUcBabG3', 'entities': {'url': {'urls': [{'url': 'https://t.co/20OUcBabG3', 'expanded_url': 'http://www.nineoh.us', 'display_url': 'nineoh.us', 'indices': [0, 23]}]}, 'description': {'urls': []}}, 'protected': False, 'followers_count': 1073787, 'friends_count': 1029304, 'listed_count': 2397, 'created_at': 'Tue Oct 13 02:47:15 +0000 2009', 'favourites_count': 101, 'utc_offset': -21600, 'time_zone': 'America/Chicago', 'geo_enabled': False, 'verified': False, 'statuses_count': 1534103, 'lang': 'en', 'contributors_enabled': False, 'is_translator': False, 'is_translation_enabled': False, 'profile_background_color': '000000', 'profile_background_image_url': 'http://abs.twimg.com/images/themes/theme15/bg.png', 'profile_background_image_url_https': 'https://abs.twimg.com/images/themes/theme15/bg.png', 'profile_background_tile': False, 'profile_image_url': 'http://pbs.twimg.com/profile_images/951111677906481153/L5ZyUilz_normal.jpg', 'profile_image_url_https': 'https://pbs.twimg.com/profile_images/951111677906481153/L5ZyUilz_normal.jpg', 'profile_banner_url': 'https://pbs.twimg.com/profile_banners/81994188/1513836951', 'profile_link_color': '91D2FA', 'profile_sidebar_border_color': '000000', 'profile_sidebar_fill_color': '000000', 'profile_text_color': '000000', 'profile_use_background_image': False, 'has_extended_profile': True, 'default_profile': False, 'default_profile_image': False, 'following': True, 'follow_request_sent': False, 'notifications': False, 'translator_type': 'regular'}\n",
      "####\n",
      "#NowPlaying Yo Gotti Mike WiLL MadeIt - Rake It Up (feat. Nicki Minaj) :: Tune In: https://t.co/iChLzW8ECo\n",
      "####\n"
     ]
    }
   ],
   "source": [
    "for status in tweepy.Cursor(api.).items(1):\n",
    "    #Process a signle status\n",
    "    print(status._json['user'])\n",
    "    print(\"####\")\n",
    "    print(status.text)\n",
    "    print(\"####\")"
   ]
  },
  {
   "cell_type": "code",
   "execution_count": 22,
   "metadata": {
    "collapsed": true
   },
   "outputs": [],
   "source": [
    "import json\n",
    "\n",
    "my_timeline = tweepy.Cursor(api.home_timeline).items(50)\n",
    "\n",
    "with open(\"tweets.json\", \"a\") as outfile:  \n",
    "    for tweet in my_timeline:\n",
    "        json.dump(tweet._json, outfile)\n",
    "        \n"
   ]
  }
 ],
 "metadata": {
  "kernelspec": {
   "display_name": "Python 3",
   "language": "python",
   "name": "python3"
  },
  "language_info": {
   "codemirror_mode": {
    "name": "ipython",
    "version": 3
   },
   "file_extension": ".py",
   "mimetype": "text/x-python",
   "name": "python",
   "nbconvert_exporter": "python",
   "pygments_lexer": "ipython3",
   "version": "3.6.3"
  }
 },
 "nbformat": 4,
 "nbformat_minor": 2
}
